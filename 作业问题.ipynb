{
 "cells": [
  {
   "cell_type": "code",
   "execution_count": null,
   "metadata": {},
   "outputs": [],
   "source": [
    "2.1.1 import语句和from…import…语句导入方式的使用方法和区别。\n",
    "  使用方法：\n",
    "      import A（A为模块名，直接使用import导入整个模块A，调用模块A其中的某个方法、变量B使用以下形式： A.B）\n",
    "      from A import B（A为模块名，B为模块A中的某个类、方法或者变量等，调用B直接使用以下形式： B）\n",
    "  区别：\n",
    "      使用import xxx 到导入的是模块，导入后使用globals()看到xxx模块信息\n",
    "      xxx import AAA导入的是对象(函数，类，变量),导入后使用globals()看到AAA信息。\n",
    "2.1.2 如何导入自建模块？        \n",
    "    函数+类->模块  \n",
    "      第一种，直接 import：这里有个大前提，就是你的py执行文件和模块同属于同个目录（父级目录）\n",
    "      第二种，通过sys模块导入自定义模块的path。sys模块是python内置的，因此我们导入自定义模块的步骤如下：\n",
    "         先导入sys模块\n",
    "         然后通过sys.path.append(path) 函数来导入自定义模块所在的目录\n",
    "         导入自定义模块。\n",
    "      第三种，通过pth文件找到自定义模块。这个方法原理就是利用了系统变量，python会扫描path变量的路径来导入模块，可以在系统path里面添加。\n",
    "  Python2和Python3有什么区别？ \n",
    "      在项目下的某一个应用中views需要导入本应用中的models时，python2：直接导入。python3：from .models import *\n",
    "      python2中ConfigParser.py模块作用是使配置文件生效。python3中ConfigParser.py改为了configparser.py,作用不变 \n",
    "      python2中urrlib2与urllib3都可以，爬虫时往往需要urllib与urllib2一起使用，因为urllib提供了urlencode()。而在python3中只能用urllib3，urllib2已经不能用了。爬虫时只需urllib3即可，因为python3默认编码为utf-8。\n",
    "2.1.3 如何导入上一级目录或者根目录的模块？\n",
    "      第一种，通过sys模块导入自定义模块的path。sys模块是python内置的，因此我们导入自定义模块的步骤如下：\n",
    "           先导入sys模块\n",
    "           然后通过sys.path.append(path) 函数来导入自定义模块所在的目录\n",
    "           导入自定义模块。\n",
    "      第二种，通过pth文件找到自定义模块。这个方法原理就是利用了系统变量，python会扫描path变量的路径来导入模块，可以在系统path里面添加。\n",
    "2.2.1 Python2和Python3在运算符和表达式上有哪些不同？\n",
    "        /与//的区别：python2中 / 表示整除（取整数），// 也表示整除（取整数)。python3中 / 表示的是做除法运算（不一定为整数），而//表示的是整除（取整数）\n",
    "       不等运算符<>与！=：python2中<>与！=都可以使用，都表示不相等的判断。而python3就不一样了，python3表示不相等的判断时只能用！=\n",
    "2.3.1 类比其他语言，解释列表和字典用途和具体使用方法。\n",
    "1)列表：\n",
    "    列表常用方括号表示，即：[]；列表中的每个元素都分配一个数字 - 它的位置，或索引，第一个索引是0，第二个索引是1，依此类推。\n",
    "    Features of list：\n",
    "        Each element in the sequence is ordered and can be indexed. The first index is 0 and the second index is 1\n",
    "        Lists can be added and multiplied\n",
    "        One can add or remove elements into list\n",
    "        One can check whether one elements is in the list\n",
    "        One can slice the list\n",
    "    Functions：\n",
    "       len(list)：        Number of list elements\n",
    "       max(list)：      The maximum value in the list\n",
    "       min(list)：       The minimum value in the list element\n",
    "    List methods：\n",
    "       append():        Adds an element at the end of the list\n",
    "       count():          Returns the number of elements with the specified value\n",
    "       extend():        Add the elements of a list (or any iterable), to the end of the current list\n",
    "       index():          Returns the index of the first element with the specified value\n",
    "       insert():          Adds an element at the specified position\n",
    "       pop():            Removes the element at the specified position\n",
    "       remove():       Removes the first item with the specified value\n",
    "       reverse():       Reverses the order of the list\n",
    "       sort():            Sorts the list\n",
    "2)字典:\n",
    "     是由花括号{}来包含其数据的，花括号内包含键(key)和其对应的值(value)，一对键和值成为一个项，键和值用冒号:隔开，项和项之间用逗号,隔开，空字典就是不包含任何项的字典，也可理解为空字典就是花括号内不包含任何内容，直接使用花括号{}表示。\n",
    "     Features of dict：\n",
    "        One can Access the values in the dict by key\n",
    "        Change dictionary by adding/deleting/updating key and values\n",
    "    Functions：\n",
    "        len(dict)\tNumber of dict elements,which is the total number of keys\n",
    "        str(dict)\tOutput dictionary as a string\n",
    "    dict methods：\n",
    "       afromkeys():       creates dictionary from given sequence\n",
    "        get():                Returns value of the key, default=None\n",
    "        items():             Returns view of dictionary's (key, value) pair\n",
    "        keys():              Returns view object of all keys\n",
    "        contains(key):    Return bool value by checking whether the key is in dict\n",
    "        pop():               Returns & removes element having given key\n",
    "        values():            Returns view of all values in dictionary\n",
    "        update():           Updates the Dictionary\n",
    "2.3.2 排序方法\n",
    "1)冒泡排序:\n",
    "    原理：假设有n个数，第一轮时：从第一个元素开始，与相邻的元素比较，如果前面的元素小就交换，直到第n-1个元素时，这样的结果是将最大的元素放到了最后，同理，第二轮还是从第一个元素开始比较，直到第n-2个元素，这样能够把剩下的n-1个数中的最大的数放到第n-1的位置，一直这样进行n-1轮就能够完成排序。 "
   ]
  },
  {
   "cell_type": "code",
   "execution_count": 2,
   "metadata": {},
   "outputs": [
    {
     "name": "stdout",
     "output_type": "stream",
     "text": [
      "[1, 2, 3, 4, 6]\n"
     ]
    }
   ],
   "source": [
    "def Bublesort(seq):\n",
    "    i = 0\n",
    "    j = 0\n",
    "    while i < len(seq):\n",
    "        while j < len(seq)-i-1:\n",
    "            if seq[j] > seq[j+1]:\n",
    "                seq[j],seq[j+1] = seq[j+1],seq[j]\n",
    "            else:\n",
    "                j+=1\n",
    "        j=0\n",
    "        i+=1\n",
    "\n",
    "a=[3,4,6,2,1]\n",
    "Bublesort(a)\n",
    "print(a)"
   ]
  },
  {
   "cell_type": "code",
   "execution_count": null,
   "metadata": {},
   "outputs": [],
   "source": [
    "2)选择排序（Selection Sort）\n",
    "    原理：选择排序的思路非常简单，每次都遍历找出上次剩下的元素中的最大数，然后和剩下数中随后一个元素交换位置，一个进行n-1次"
   ]
  },
  {
   "cell_type": "code",
   "execution_count": 3,
   "metadata": {},
   "outputs": [
    {
     "name": "stdout",
     "output_type": "stream",
     "text": [
      "[1, 2, 4, 3, 6]\n"
     ]
    }
   ],
   "source": [
    "#coding:utf-8\n",
    "#Attention:max标志需取为seq[0]，我刚开始取了0，这会导致最后一次比较时出问题\n",
    "def SelectionSort(seq):\n",
    "    i,j,maxel = 0,0,seq[0]\n",
    "    while i < len(seq):\n",
    "        while j < len(seq)-i:\n",
    "            if seq[j] > maxel:\n",
    "                maxel = j\n",
    "            j+=1\n",
    "        seq[maxel],seq[len(seq)-i-1] = seq[len(seq)-i-1],seq[maxel]\n",
    "        j,maxel=0,seq[0]\n",
    "        i+=1\n",
    "\n",
    "a=[3,4,6,2,1]\n",
    "SelectionSort(a)\n",
    "print(a)\n"
   ]
  },
  {
   "cell_type": "code",
   "execution_count": null,
   "metadata": {},
   "outputs": [],
   "source": [
    "3)插入排序（Insertion Sort）\n",
    "　　原理：将第一个元素作为标准，每次将下一个元素放到前面正确的位置中去。\n",
    "　　技巧：从已排好序元素最后一个开始遍历比较，因为插入移动只会移动其后面的元素。"
   ]
  },
  {
   "cell_type": "code",
   "execution_count": 4,
   "metadata": {},
   "outputs": [
    {
     "name": "stdout",
     "output_type": "stream",
     "text": [
      "[17, 20, 26, 31, 44, 54, 55, 77, 93]\n"
     ]
    }
   ],
   "source": [
    "def insertion_sort(a_list):\n",
    "    for index in range(1, len(a_list)):\n",
    "        current_value = a_list[index]\n",
    "        position = index\n",
    "        while position > 0 and a_list[position - 1] > current_value:        #从目前元素开始向前，若>目前值就后移一位\n",
    "            a_list[position] = a_list[position - 1]\n",
    "            position = position - 1\n",
    "        a_list[position] = current_value\n",
    "\n",
    "a = [54, 26, 93, 17, 77, 31, 44, 55, 20]\n",
    "insertion_sort(a)\n",
    "print(a)\n"
   ]
  },
  {
   "cell_type": "code",
   "execution_count": null,
   "metadata": {},
   "outputs": [],
   "source": [
    "4)希尔排序（Shell Sort）\n",
    "　　原理：每次取一个gap，第一次取集合元素个数整除2的结果，然后对从首元素开始每gap距离的元素组合成一个组并对其进行插入排序，假设集合[54, 26, 93, 17, 77, 31, 44, 55, 20]，那么第一次gap为9//2=4，那么就能够有这些组：[54,77,20],[26,31],[93,44],[17,55],注意，并不是对其真的分组，只是将其看作一组后进行插入排序，那么结果是：[20, 26, 44, 17, 54, 31, 93, 55, 77],到此，第一次完成。第二次把gap改为上次gap//2的结果，也就是2，所以对上次的结果分组为[20,44,54,93,77],[26,17,31,55],对其进行插入排序后的结果是[20, 17, 44, 26, 54, 31, 77, 55, 93]，到此第二次完成。第三次gap为1，注意，当gap为1时就表明是最后一轮了，最上此结果[20, 17, 44, 26, 54, 31, 77, 55, 93]全部进行插入排序就能够得到结果了。【仔细看看就能够发现其每次排序后真的是数字离其真实位置更近了】。"
   ]
  },
  {
   "cell_type": "code",
   "execution_count": 6,
   "metadata": {},
   "outputs": [
    {
     "name": "stdout",
     "output_type": "stream",
     "text": [
      "After increments of size 4 The list is [20, 26, 44, 17, 54, 31, 93, 55, 77]\n",
      "After increments of size 2 The list is [20, 17, 44, 26, 54, 31, 77, 55, 93]\n",
      "After increments of size 1 The list is [17, 20, 26, 31, 44, 54, 55, 77, 93]\n",
      "[17, 20, 26, 31, 44, 54, 55, 77, 93]\n"
     ]
    }
   ],
   "source": [
    "def shell_sort(a_list):\n",
    "    sublist_count = len(a_list) // 2\n",
    "    while sublist_count > 0:\n",
    "        for start_position in range(sublist_count):\n",
    "            gap_insertion_sort(a_list, start_position, sublist_count)\n",
    "        print(\"After increments of size\", sublist_count, \"The list is\",a_list)\n",
    "        sublist_count = sublist_count // 2\n",
    "\n",
    "def gap_insertion_sort(a_list,start, gap):\n",
    "    for i in range(start + gap, len(a_list), gap):\n",
    "        current_value = a_list[i]\n",
    "        position = i\n",
    "        while position >= gap and a_list[position - gap] > current_value:\n",
    "            a_list[position] = a_list[position - gap]\n",
    "            position = position - gap\n",
    "        a_list[position] = current_value\n",
    "\n",
    "a_list = [54, 26, 93, 17, 77, 31, 44, 55, 20]\n",
    "shell_sort(a_list)\n",
    "print(a_list)\n"
   ]
  },
  {
   "cell_type": "code",
   "execution_count": null,
   "metadata": {},
   "outputs": [],
   "source": [
    "5)归并排序（Merge Sort）\n",
    "    将已有序的子序列合并，得到完全有序的序列；即先使每个子序列有序，再使子序列段间有序。若将两个有序表合并成一个有序表，称为二路归并"
   ]
  },
  {
   "cell_type": "code",
   "execution_count": 7,
   "metadata": {},
   "outputs": [
    {
     "name": "stdout",
     "output_type": "stream",
     "text": [
      "[1, 2, 3, 4, 5, 6, 8, 9]\n"
     ]
    }
   ],
   "source": [
    "def partition(seq, start, mid, stop):\n",
    "    lst = []\n",
    "    i = start\n",
    "    j = mid\n",
    "    while i < mid and j < stop:\n",
    "        if seq[i] < seq[j]:\n",
    "            lst.append(seq[i])\n",
    "            i+=1\n",
    "        else:\n",
    "            lst.append(seq[j])\n",
    "            j+=1\n",
    "    while i < mid:\n",
    "        lst.append(seq[i])\n",
    "        i+=1\n",
    "    while j < stop:\n",
    "        lst.append(seq[j])\n",
    "        j+=1\n",
    "    for i in range(len(lst)):\n",
    "        seq[start+i]=lst[i]\n",
    "\n",
    "def mergeSortRecursively(seq, start, stop):\n",
    "    if start >= stop-1:\n",
    "        return\n",
    "    mid = (start + stop) // 2\n",
    "    mergeSortRecursively(seq, start, mid)\n",
    "    mergeSortRecursively(seq, mid, stop)\n",
    "    partition(seq, start, mid, stop)\n",
    "\n",
    "a=[3,4,6,8,2,1,5,9]\n",
    "mergeSortRecursively(a, 0, len(a))\n",
    "print(a)\n"
   ]
  },
  {
   "cell_type": "code",
   "execution_count": null,
   "metadata": {},
   "outputs": [],
   "source": [
    "6)快速排序（Quick Sort）\n",
    "    原理：第一次以第一个元素为标志，将后面小的放他左边，大的放他右边，而后将其放到中间。第二次分别在其两边重复这样的过程，最后直到每组只有一个数据。"
   ]
  },
  {
   "cell_type": "code",
   "execution_count": 16,
   "metadata": {},
   "outputs": [
    {
     "name": "stdout",
     "output_type": "stream",
     "text": [
      "Quick Sort: \n",
      "[13, 27, 38, 49, 49, 65, 76, 97]\n"
     ]
    }
   ],
   "source": [
    "def QuickSort(myList,start,end):\n",
    "    #判断low是否小于high,如果为false,直接返回\n",
    "    if start < end:\n",
    "        i,j = start,end\n",
    "        #设置基准数\n",
    "        base = myList[i]\n",
    "\n",
    "        while i < j:\n",
    "            #如果列表后边的数,比基准数大或相等,则前移一位直到有比基准数小的数出现\n",
    "            while (i < j) and (myList[j] >= base):\n",
    "                j = j - 1\n",
    "\n",
    "            #如找到,则把第j个元素赋值给第个元素i,此时表中i,j个元素相等\n",
    "            myList[i] = myList[j]\n",
    "\n",
    "            #同样的方式比较前半区\n",
    "            while (i < j) and (myList[i] <= base):\n",
    "                i = i + 1\n",
    "            myList[j] = myList[i]\n",
    "        #做完第一轮比较之后,列表被分成了两个半区,并且i=j,需要将这个数设置回base\n",
    "        myList[i] = base\n",
    "\n",
    "        #递归前后半区\n",
    "        QuickSort(myList, start, i - 1)\n",
    "        QuickSort(myList, j + 1, end)\n",
    "    return myList\n",
    "\n",
    "\n",
    "myList = [49,38,65,97,76,13,27,49]\n",
    "print(\"Quick Sort: \")\n",
    "QuickSort(myList,0,len(myList)-1)\n",
    "print(myList)"
   ]
  },
  {
   "cell_type": "code",
   "execution_count": null,
   "metadata": {},
   "outputs": [],
   "source": [
    "4.1 字符串常用函数\n",
    "    find()：检测字符串是否包含特定字符，如果包含，则返回开始的索引；否则，返回-1。\n",
    "    index()：检测字符串是否包含指定字符，如果包含，则返回开始的索引值；否则，提示错误。\n",
    "    count()：返回str1在string中指定索引范围内[start, end)出现的次数。\n",
    "    replace()：语法: str1.replace(str2, count)。功能： 将str1中的str1替换成str2，如果指定count，则不超过count次;\n",
    "    split()：语法： str.split('分界符', maxSplit) maxSplit默认值为-1，表示根据定界符分割所有能分割的； 返回值为列表；功能： 如果 maxsplit有指定值，则仅分割 maxsplit 个子字符串；\n",
    "    capitalize()：语法： str.capitalize() 无参数；功能：将字符串的首字母大写，其余字母全部小写\n",
    "    title()：语法： str.title() 无参数；功能： 将字符串中的所有单词的首字母大写，其余字母全部小写；\n",
    "    startswith()：语法： str.startswith(str1) 功能： 检查字符串str是否 以字符串str1开头，若是，则返回True；否则，返回False；\n",
    "    lower()：语法： str.lower() 无参数；功能： 将字符串的所有字母转换为小写；\n",
    "    upper()：语法： str.upper() 无参数；功能： 将字符串的所有字母转换为大写；                  \n",
    "    endswith()：语法： str.endswith(str1)功能： 检查字符串str是否 以字符串str1结尾，若是，则返回True；否则，返回False；       \n",
    "    ljust()：语法： str.ljust(len)功能： 将字符串左对齐，并使用空格填充至指定长度len；\n",
    "    rjust()：语法： str.rjust(len)功能： 将字符串右对齐，并使用空格填充至指定长度len；           \n",
    "    center()：语法： str.center(len)功能： 将字符串居中，并使用空格填充至指定长度len；     \n",
    "    lstrip()：语法： str.lstrip()功能： 去掉字符串左边的空白字符        \n",
    "    rstrip()：语法： str.rstrip() 功能： 去掉字符串右边的空白字符；\n",
    "    strip()：语法： str.strip() 功能： 去掉字符串左右两边的空白字符；             \n",
    "    partition()：语法： str.partition(str1) 功能： 根据str中的第一个str1，将字符串str分割为str1之前，str1和str1之后三个部分；若str1不存在，则将str作为第一部分，后面两个元素为空；返回元组；           \n",
    "    join()：语法： str.join(iterable) 功能： 将iterable中每两个相邻元素中间插入字符串str，返回形成的新的字符串；          \n",
    "    isspace()：语法： str.isspace() 无参数；功能： 如果字符串str中只包含空格，则返回True；否则，返回False；\n",
    "    isdigit()：语法： str.isdigit() 无参数；功能： 如果字符串str中只包含数字，则返回True；否则，返回False；              \n",
    "    isalpha()：语法： str.isalpha() 无参数；功能： 如果字符串str中只包含字母，则返回True；否则，返回False；                    \n",
    "4.2 正则表达式\n",
    "     正则表达式是一个特殊的字符序列，它能帮助你方便的检查一个字符串是否与某种模式匹配。              \n",
    "    1.正则表达式简写法\n",
    "    2.元字符\n",
    "    3.re 模块使 Python 语言拥有全部的正则表达式功能。                                     \n",
    "4.3 字符串、列表和元组有什么不同的地方\n",
    "字符串：\n",
    "            不能修改字符序列，除了不能修改之外，还可以把字符串当成列表一样处理。\n",
    "            访问字符串种某个字符同访问元组和列表的元素是一样的\n",
    "列表：\n",
    "         列表的特点就是：可重复，类型可不同。类型不同也是跟数组最本质的区别了。python里的列表用“[]”表示。\n",
    "         列表是可变对象,它支持在原处修改的操作.也可以通过指定的索引和分片获取元素。\n",
    "         区别于元组，可动态增加，删除，更新。\n",
    "         可以和字符串作为比较。因为字符串具备列表的一些特点\n",
    "元组：\n",
    "        元组和列表在结构上没有什么区别，唯一的差异在于元组是只读的，不能修改。元组用“()”表示。\n",
    "        元组一旦定义其长度和内容都是固定的。\n",
    "        一旦创建元组，则这个元组就不能被修改，即不能对元组进行更新、增加、删除操作。\n",
    "        若想创建包含一个元素的元组，则必须在该元素后面加逗号“,”，否则创建的不是一个元组，而是一个字符串                             \n",
    "4.4 字符串拼接\n",
    "    加号                    print 'Python' + 'Tab'\n",
    "    逗号                    print 'Python','Tab'\n",
    "    直接连接              print 'Python''Tab'\n",
    "    格式化                 print '%s %s'%('Python', 'Tab')\n",
    "    join                     str_list = ['Python', 'Tab'] \n",
    "                              a = ''\n",
    "                              print a.join(str_list)\n",
    "    多行字符串拼接（）s = ('select *'\n",
    "                                     'from atable'\n",
    "                                     'where id=888')\n",
    "                               print s, type(s)\n",
    " \n",
    "\n"
   ]
  }
 ],
 "metadata": {
  "kernelspec": {
   "display_name": "Python 3",
   "language": "python",
   "name": "python3"
  },
  "language_info": {
   "codemirror_mode": {
    "name": "ipython",
    "version": 3
   },
   "file_extension": ".py",
   "mimetype": "text/x-python",
   "name": "python",
   "nbconvert_exporter": "python",
   "pygments_lexer": "ipython3",
   "version": "3.6.5"
  }
 },
 "nbformat": 4,
 "nbformat_minor": 2
}
