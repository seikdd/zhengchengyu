{
 "cells": [
  {
   "cell_type": "code",
   "execution_count": null,
   "metadata": {},
   "outputs": [],
   "source": [
    "import re\n",
    "import pandas as pd\n",
    "from collections import Counter\n",
    "words1 ='Dynamic-typed variables,Python;really?!!'  \n",
    "m1=re.split(r'(\\W)', words1) \n",
    "n1=filter(None, m1)\n",
    "count1 = Counter(n1)  \n",
    "print(count1)\n",
    "步骤一用的re模块split函数分裂每个单词，在用counter计算每个单词的个数"
   ]
  },
  {
   "cell_type": "code",
   "execution_count": null,
   "metadata": {},
   "outputs": [],
   "source": [
    "import re\n",
    "import pandas as pd\n",
    "from collections import Counter\n",
    "i=0\n",
    "sum1=1\n",
    "j=0\n",
    "rank1=1\n",
    "list1=[]\n",
    "words1 ='Dynamic-typed variables,Python;really?!!'  \n",
    "m1=re.split(r'(\\W)', words1) \n",
    "n1=filter(None, m1)\n",
    "count1 = Counter(n1)  # 以单词为分隔\n",
    "print(count1)\n",
    "df1=pd.Series(count1)\n",
    "df2=pd.DataFrame(df1,columns=['a'])\n",
    "print(df2)\n",
    "while(i<len(df2)):\n",
    "    if df2.iloc[i]==df2.iloc[i+1]:\n",
    "        sum1=sum1+1\n",
    "    else:\n",
    "        while(j<=i):\n",
    "            list1[j:i]=rank1+(sum1-1)/2\n",
    "            j=j+1\n",
    "        i+1\n",
    "        sum1=1\n",
    "print(list1)\n",
    "\n",
    "i=0\n",
    "sum2=1\n",
    "j=0\n",
    "rank2=1\n",
    "list2=[]\n",
    "words1 ='Python;really?!!'  \n",
    "m2=re.split(r'(\\W)', words1) \n",
    "n2=filter(None, m2)\n",
    "count2 = Counter(n2)  # 以单词为分隔\n",
    "print(count2)\n",
    "df3=pd.Series(count2)\n",
    "df4=pd.DataFrame(df3,columns=['b'])\n",
    "print(df4)\n",
    "while(i<len(df4)):\n",
    "    if df4.iloc[i]==df4.iloc[i+1]:\n",
    "        sum2=sum2+1\n",
    "    else:\n",
    "        while(j<=i):\n",
    "            list2[j:i]=rank2+(sum2-1)/2\n",
    "            j=j+1\n",
    "        i+1\n",
    "        sum2=1\n",
    "print(list2)\n",
    "步骤二写了两个list，每个list计算每个list的值。"
   ]
  }
 ],
 "metadata": {
  "kernelspec": {
   "display_name": "Python 3",
   "language": "python",
   "name": "python3"
  },
  "language_info": {
   "codemirror_mode": {
    "name": "ipython",
    "version": 3
   },
   "file_extension": ".py",
   "mimetype": "text/x-python",
   "name": "python",
   "nbconvert_exporter": "python",
   "pygments_lexer": "ipython3",
   "version": "3.6.5"
  }
 },
 "nbformat": 4,
 "nbformat_minor": 2
}
